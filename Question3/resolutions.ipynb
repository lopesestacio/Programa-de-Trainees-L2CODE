{
 "cells": [
  {
   "cell_type": "markdown",
   "metadata": {},
   "source": [
    "Resposta 1 - Utilizando a biblioteca pandas."
   ]
  },
  {
   "cell_type": "code",
   "execution_count": 2,
   "metadata": {},
   "outputs": [],
   "source": [
    "import pandas as pd\n",
    "import sqlite3\n",
    "import tabula"
   ]
  },
  {
   "cell_type": "code",
   "execution_count": 7,
   "metadata": {},
   "outputs": [],
   "source": [
    "#Extraindo cada tabela do pdf da avaliação tecnica com a biblioteca tabula.\n",
    "dfs = tabula.read_pdf(\"tabelas.pdf\", pages=\"all\")\n",
    "\n",
    "#Transformando cada tabela em um arquivo csv.\n",
    "dfs[0].to_csv('pessoas.csv', index=False)\n",
    "dfs[1].to_csv('contratos.csv', index=False)\n",
    "dfs[2].to_csv('pagamentos.csv', index=False)\n",
    "\n",
    "#Definindo cada dataframe apartir do csv gerado.\n",
    "pessoas = pd.read_csv('pessoas.csv')\n",
    "pagamentos = pd.read_csv('pagamentos.csv')\n",
    "contratos = pd.read_csv('contratos.csv')"
   ]
  },
  {
   "cell_type": "code",
   "execution_count": null,
   "metadata": {},
   "outputs": [],
   "source": [
    "#Mesclando as tabelas, e criando uma unica tabela.\n",
    "df1 = pessoas.rename(columns={'ID': 'PESSOA_ID'})\n",
    "df2 = pagamentos.rename(columns={'ID': 'PAGAMENTO_ID'})\n",
    "df3 = contratos.rename(columns={'ID': 'CONTRATO_ID'})\n",
    "\n",
    "df = df1.merge(df2).merge(df3)"
   ]
  },
  {
   "cell_type": "code",
   "execution_count": null,
   "metadata": {},
   "outputs": [],
   "source": [
    "#Mudando o type da coluna 'DT_PAGAMENTO' e 'DT_COMPLETO' de object para datetime64\n",
    "df['DT_PAGAMENTO'] = pd.to_datetime(df['DT_PAGAMENTO'])\n",
    "df['DT_COMPLETO'] = pd.to_datetime(df['DT_COMPLETO'])\n",
    "#Criando a coluna 'DIA_MES'\n",
    "df['DIA_MES'] = df['DT_PAGAMENTO'].dt.day\n",
    "#Criando a coluna 'VALOR_TOTAL'\n",
    "df['VALOR_TOTAL'] = df.apply(lambda row: row['VALOR_PARCELA']*row['PARCELAS'] if pd.notna(row['DT_COMPLETO']) == True else 0, axis=1)\n"
   ]
  },
  {
   "cell_type": "markdown",
   "metadata": {},
   "source": [
    "Selecionar o nome, dia do mês e valor da parcela para clientes que estão inadimplentes"
   ]
  },
  {
   "cell_type": "code",
   "execution_count": null,
   "metadata": {},
   "outputs": [],
   "source": [
    "inadimplentes = df[df['INADIMPLENTE'] == 'S'][['NOME','DIA_MES','VALOR_PARCELA']].reset_index(drop=True)\n",
    "inadimplentes"
   ]
  },
  {
   "cell_type": "markdown",
   "metadata": {},
   "source": [
    "Selecionar o nome e valor total pago de clientes com pagamento completo."
   ]
  },
  {
   "cell_type": "code",
   "execution_count": null,
   "metadata": {},
   "outputs": [],
   "source": [
    "pg_completo = df[df['VALOR_TOTAL'] != 0][['NOME', 'VALOR_TOTAL']].reset_index(drop=True)\n",
    "pg_completo"
   ]
  },
  {
   "cell_type": "markdown",
   "metadata": {},
   "source": [
    "Resposta 2 - Utilizando SQL (Utilizamos o a biblioteca sqlite3 e pandas para visualizarmos o resultado direto no jupyter notebook)"
   ]
  },
  {
   "cell_type": "markdown",
   "metadata": {},
   "source": [
    "Selecionar o nome, dia do mês e valor da parcela para clientes que estão inadimplentes"
   ]
  },
  {
   "cell_type": "code",
   "execution_count": 53,
   "metadata": {},
   "outputs": [
    {
     "data": {
      "text/html": [
       "<div>\n",
       "<style scoped>\n",
       "    .dataframe tbody tr th:only-of-type {\n",
       "        vertical-align: middle;\n",
       "    }\n",
       "\n",
       "    .dataframe tbody tr th {\n",
       "        vertical-align: top;\n",
       "    }\n",
       "\n",
       "    .dataframe thead th {\n",
       "        text-align: right;\n",
       "    }\n",
       "</style>\n",
       "<table border=\"1\" class=\"dataframe\">\n",
       "  <thead>\n",
       "    <tr style=\"text-align: right;\">\n",
       "      <th></th>\n",
       "      <th>NOME</th>\n",
       "      <th>DIA_MES</th>\n",
       "      <th>VALOR_PARCELA</th>\n",
       "    </tr>\n",
       "  </thead>\n",
       "  <tbody>\n",
       "    <tr>\n",
       "      <th>0</th>\n",
       "      <td>Cristian Ghyprievy</td>\n",
       "      <td>19</td>\n",
       "      <td>300</td>\n",
       "    </tr>\n",
       "    <tr>\n",
       "      <th>1</th>\n",
       "      <td>Joana Cabel</td>\n",
       "      <td>25</td>\n",
       "      <td>150</td>\n",
       "    </tr>\n",
       "    <tr>\n",
       "      <th>2</th>\n",
       "      <td>John Serial</td>\n",
       "      <td>05</td>\n",
       "      <td>550</td>\n",
       "    </tr>\n",
       "  </tbody>\n",
       "</table>\n",
       "</div>"
      ],
      "text/plain": [
       "                 NOME DIA_MES  VALOR_PARCELA\n",
       "0  Cristian Ghyprievy      19            300\n",
       "1         Joana Cabel      25            150\n",
       "2         John Serial      05            550"
      ]
     },
     "execution_count": 53,
     "metadata": {},
     "output_type": "execute_result"
    }
   ],
   "source": [
    "query = \"\"\"WITH inadimplentes AS (\n",
    "SELECT * FROM pessoas\n",
    "JOIN contratos ON pessoas.CONTRATO_ID = contratos.id\n",
    "JOIN pagamentos ON pessoas.ID = pagamentos.PESSOA_ID)\n",
    "SELECT nome, STRFTIME('%d', dt_pagamento) as DIA_MES,valor_parcela from inadimplentes\n",
    "WHERE inadimplente = 'S';\n",
    "\"\"\"\n",
    "dados = sqlite3.connect('dados.db') \n",
    "df = pd.read_sql(query, dados)\n",
    "df\n"
   ]
  },
  {
   "cell_type": "markdown",
   "metadata": {},
   "source": [
    "Selecionar o nome e valor total pago de clientes com pagamento completo."
   ]
  },
  {
   "cell_type": "code",
   "execution_count": 54,
   "metadata": {},
   "outputs": [
    {
     "data": {
      "text/html": [
       "<div>\n",
       "<style scoped>\n",
       "    .dataframe tbody tr th:only-of-type {\n",
       "        vertical-align: middle;\n",
       "    }\n",
       "\n",
       "    .dataframe tbody tr th {\n",
       "        vertical-align: top;\n",
       "    }\n",
       "\n",
       "    .dataframe thead th {\n",
       "        text-align: right;\n",
       "    }\n",
       "</style>\n",
       "<table border=\"1\" class=\"dataframe\">\n",
       "  <thead>\n",
       "    <tr style=\"text-align: right;\">\n",
       "      <th></th>\n",
       "      <th>NOME</th>\n",
       "      <th>VALOR_TOTAL</th>\n",
       "    </tr>\n",
       "  </thead>\n",
       "  <tbody>\n",
       "    <tr>\n",
       "      <th>0</th>\n",
       "      <td>Michael Seven</td>\n",
       "      <td>14400</td>\n",
       "    </tr>\n",
       "  </tbody>\n",
       "</table>\n",
       "</div>"
      ],
      "text/plain": [
       "            NOME  VALOR_TOTAL\n",
       "0  Michael Seven        14400"
      ]
     },
     "execution_count": 54,
     "metadata": {},
     "output_type": "execute_result"
    }
   ],
   "source": [
    "query = \"\"\"WITH pagamento_completo AS (\n",
    "SELECT * FROM pessoas\n",
    "JOIN contratos ON pessoas.CONTRATO_ID = contratos.id\n",
    "JOIN pagamentos ON pessoas.ID = pagamentos.PESSOA_ID)\n",
    "SELECT nome,(valor_parcela*parcelas) AS VALOR_TOTAL from pagamento_completo\n",
    "WHERE dt_completo IS NOT NULL;\n",
    "\"\"\"\n",
    "dados = sqlite3.connect('dados.db') \n",
    "df = pd.read_sql(query, dados)\n",
    "df"
   ]
  }
 ],
 "metadata": {
  "kernelspec": {
   "display_name": "Python 3.10.0 64-bit",
   "language": "python",
   "name": "python3"
  },
  "language_info": {
   "codemirror_mode": {
    "name": "ipython",
    "version": 3
   },
   "file_extension": ".py",
   "mimetype": "text/x-python",
   "name": "python",
   "nbconvert_exporter": "python",
   "pygments_lexer": "ipython3",
   "version": "3.10.0"
  },
  "orig_nbformat": 4,
  "vscode": {
   "interpreter": {
    "hash": "a1b250869b7b451bc090eaeeefe2f4bc81e7888a1592e7c1d554bb93ce0ab375"
   }
  }
 },
 "nbformat": 4,
 "nbformat_minor": 2
}
